{
 "cells": [
  {
   "cell_type": "markdown",
   "metadata": {},
   "source": [
    "## Question 1:\n",
    "Assuming that we have some email addresses in the \"username@companyname.com\" format, please write program\n",
    "to print the company name of a given email address. Both user names and company names are composed of letters\n",
    "only.\n",
    "\n",
    "Input Format:<br>                             \n",
    "The first line of the input contains an email address.<br>\n",
    "Output Format:<br>\n",
    "Print the company name in single line.<br><br>\n",
    "Example;<br>\n",
    "Input:<br>\n",
    "john@google.com<br>\n",
    "Output:<br>\n",
    "google<br>"
   ]
  },
  {
   "cell_type": "code",
   "execution_count": 19,
   "metadata": {},
   "outputs": [
    {
     "name": "stdout",
     "output_type": "stream",
     "text": [
      "abhi@infocious.com\n",
      "infocious\n"
     ]
    }
   ],
   "source": [
    "s=input()\n",
    "start=s.index(\"@\")\n",
    "end=s.index(\".\")\n",
    "print(s[start+1:end])"
   ]
  },
  {
   "cell_type": "markdown",
   "metadata": {},
   "source": [
    "## Question 2:\n",
    "Write a program that accepts a comma-separated sequence of words as input and prints the words in a comma separated sequence after sorting them alphabetically.<br>\n",
    "Input Format:<br>\n",
    "The first line of input contains words separated by the comma.<br>\n",
    "Output Format:<br>\n",
    "Print the sorted words separated by the comma.<br>\n",
    "Example:<br>\n",
    "Input:<br>\n",
    "without,hello,bag,world<br>\n",
    "Output:<br>\n",
    "bag,hello,without,world<br>"
   ]
  },
  {
   "cell_type": "code",
   "execution_count": 18,
   "metadata": {},
   "outputs": [
    {
     "name": "stdout",
     "output_type": "stream",
     "text": [
      "without,hello,bag,world\n",
      "bag,hello,without,world\n"
     ]
    }
   ],
   "source": [
    "w=input().split(\",\")\n",
    "x=sorted(w)\n",
    "e=\"\"\n",
    "for i in x:\n",
    "    e+=i\n",
    "    e+=\",\"\n",
    "print(e[:-1])"
   ]
  },
  {
   "cell_type": "markdown",
   "metadata": {},
   "source": [
    "## Question 3:\n",
    "Create your own Jupyter Notebook for Sets.<br>\n",
    "Reference link: https://www.w3schools.com/python/python_sets.asp"
   ]
  },
  {
   "cell_type": "markdown",
   "metadata": {},
   "source": [
    "A set is a collection which is unordered and unindexed. In Python sets are written with curly brackets."
   ]
  },
  {
   "cell_type": "markdown",
   "metadata": {},
   "source": [
    "You cannot access items in a set by referring to an index, since sets are unordered the items has no index.\n",
    "But you can loop through the set items using a for loop, or ask if a specified value is present in a set, by using the in keyword."
   ]
  },
  {
   "cell_type": "code",
   "execution_count": 2,
   "metadata": {},
   "outputs": [
    {
     "name": "stdout",
     "output_type": "stream",
     "text": [
      "cherry\n",
      "apple\n",
      "banana\n"
     ]
    }
   ],
   "source": [
    "thisset = {\"apple\", \"banana\", \"cherry\"}\n",
    "for x in thisset:\n",
    "  print(x)"
   ]
  },
  {
   "cell_type": "markdown",
   "metadata": {},
   "source": [
    "To add one item to a set use the add() method.<br>\n",
    "To add more than one item to a set use the update() method."
   ]
  },
  {
   "cell_type": "code",
   "execution_count": 3,
   "metadata": {},
   "outputs": [
    {
     "name": "stdout",
     "output_type": "stream",
     "text": [
      "{'orange', 'banana', 'mango', 'cherry', 'grapes', 'apple'}\n"
     ]
    }
   ],
   "source": [
    "thisset = {\"apple\", \"banana\", \"cherry\"}\n",
    "thisset.update([\"orange\", \"mango\", \"grapes\"])\n",
    "print(thisset)"
   ]
  },
  {
   "cell_type": "markdown",
   "metadata": {},
   "source": [
    "To determine how many items a set has, use the len() method.<br>\n",
    "To remove an item in a set, use the remove(), or the discard() method.\n"
   ]
  },
  {
   "cell_type": "code",
   "execution_count": 6,
   "metadata": {},
   "outputs": [
    {
     "name": "stdout",
     "output_type": "stream",
     "text": [
      "3\n",
      "{'cherry', 'apple'}\n",
      "2\n"
     ]
    }
   ],
   "source": [
    "thisset = {\"apple\", \"banana\", \"cherry\"}\n",
    "\n",
    "print(len(thisset))\n",
    "thisset.remove(\"banana\")\n",
    "\n",
    "print(thisset)\n",
    "print(len(thisset))"
   ]
  },
  {
   "cell_type": "markdown",
   "metadata": {},
   "source": [
    "<b>Note:</b><br>\n",
    "If the item to remove does not exist, discard() will NOT raise an error.\n",
    "\n",
    "You can also use the pop(), method to remove an item, but this method will remove the last item. Remember that sets are unordered, so you will not know what item that gets removed.\n",
    "\n",
    "The return value of the pop() method is the removed item."
   ]
  },
  {
   "cell_type": "code",
   "execution_count": 20,
   "metadata": {},
   "outputs": [
    {
     "name": "stdout",
     "output_type": "stream",
     "text": [
      "cherry\n",
      "{'apple', 'banana'}\n"
     ]
    }
   ],
   "source": [
    "thisset = {\"apple\", \"banana\", \"cherry\"}\n",
    "\n",
    "x = thisset.pop()\n",
    "print(x)\n",
    "print(thisset)"
   ]
  },
  {
   "cell_type": "markdown",
   "metadata": {},
   "source": [
    "## Question 4:\n",
    "Given a list of n-1 numbers ranging from 1 to n, your task is to find the missing number. There are no duplicates.<br>\n",
    "Input Format:<br>\n",
    "The first line contains n-1 numbers with each number separated by a space.<br>\n",
    "Output Format:<br>\n",
    "Print the missing number<br>\n",
    "Example:<br>\n",
    "Input:1 2 4 6 3 7 8<br>\n",
    "Output:5<br>\n",
    "Explanation:<br>\n",
    "In the above list of numbers 5 is missing and hence 5 is the output<br>\n"
   ]
  },
  {
   "cell_type": "code",
   "execution_count": 15,
   "metadata": {},
   "outputs": [
    {
     "name": "stdout",
     "output_type": "stream",
     "text": [
      "1 4 2 6 5 8 9 7\n",
      "3\n"
     ]
    }
   ],
   "source": [
    "l=list(map(int,input().split())) \n",
    "for i in range(1,len(l)+1): \n",
    "    if i not in l: \n",
    "        print(i) "
   ]
  },
  {
   "cell_type": "markdown",
   "metadata": {},
   "source": [
    "## Question 5:\n",
    "With a given list L, write a program to print this list L after removing all duplicate values with original order reserved.<br>\n",
    "Example:<br><br>\n",
    "If the input list is<br>\n",
    "12 24 35 24 88 120 155 88 120 155<br>\n",
    "Then the output should be<br>\n",
    "12 24 35 88 120 155<br>\n",
    "Explanation:<br>\n",
    "Third, seventh and ninth element of the list L has been removed because it was already present.<br><br>\n",
    "Input Format:<br>\n",
    "In one line take the elements of the list L with each element separated by a space.<br>\n",
    "Output Format:<br>\n",
    "Print the elements of the modified list in one line with each element separated by a space.<br>\n",
    "Example:<br>\n",
    "Input: 12 24 35 24<br>\n",
    "Output<br>\n",
    "12 24 35<br>"
   ]
  },
  {
   "cell_type": "code",
   "execution_count": 17,
   "metadata": {},
   "outputs": [
    {
     "name": "stdout",
     "output_type": "stream",
     "text": [
      "1 2 3 4 1 2 3 1 2 14 1 2 12 1 25 12 1 2\n",
      "1 2 3 4 14 12 25 "
     ]
    }
   ],
   "source": [
    "l=[int(x) for x in input().split()]\n",
    "e=[]\n",
    "for i in l:\n",
    "    if i not in e:\n",
    "        e.append(i)\n",
    "for i in e:\n",
    "    print(i,end=\" \")"
   ]
  }
 ],
 "metadata": {
  "kernelspec": {
   "display_name": "Python 3",
   "language": "python",
   "name": "python3"
  },
  "language_info": {
   "codemirror_mode": {
    "name": "ipython",
    "version": 3
   },
   "file_extension": ".py",
   "mimetype": "text/x-python",
   "name": "python",
   "nbconvert_exporter": "python",
   "pygments_lexer": "ipython3",
   "version": "3.7.6"
  }
 },
 "nbformat": 4,
 "nbformat_minor": 4
}
