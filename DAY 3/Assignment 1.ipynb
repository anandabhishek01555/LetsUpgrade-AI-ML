{
 "cells": [
  {
   "cell_type": "markdown",
   "metadata": {},
   "source": [
    "## Question 1 : Write a program to subtract two complex numbers in Python."
   ]
  },
  {
   "cell_type": "code",
   "execution_count": 4,
   "metadata": {},
   "outputs": [
    {
     "name": "stdout",
     "output_type": "stream",
     "text": [
      "1+2j\n",
      "2+2j\n",
      "(3+4j)\n"
     ]
    }
   ],
   "source": [
    "x=complex(input())\n",
    "y=complex(input())\n",
    "print(x+y)"
   ]
  },
  {
   "cell_type": "markdown",
   "metadata": {},
   "source": [
    "## Question 2 : Write a program to find the fourth root of a number. "
   ]
  },
  {
   "cell_type": "code",
   "execution_count": 4,
   "metadata": {},
   "outputs": [
    {
     "name": "stdout",
     "output_type": "stream",
     "text": [
      "16\n",
      "2.0\n"
     ]
    }
   ],
   "source": [
    "import math\n",
    "x=int(input())\n",
    "print(math.sqrt(math.sqrt(x)))"
   ]
  },
  {
   "cell_type": "markdown",
   "metadata": {},
   "source": [
    "## Question 3: Write a program to swap two numbers in Python with the help of a temporary variable."
   ]
  },
  {
   "cell_type": "code",
   "execution_count": 12,
   "metadata": {},
   "outputs": [
    {
     "name": "stdout",
     "output_type": "stream",
     "text": [
      "The value of a is 3\n",
      "The value of b is 2\n"
     ]
    }
   ],
   "source": [
    "a=2\n",
    "b=3\n",
    "temp=a\n",
    "a=b\n",
    "b=temp\n",
    "print(\"The value of a is\",a)\n",
    "print(\"The value of b is\",b)"
   ]
  },
  {
   "cell_type": "markdown",
   "metadata": {},
   "source": [
    "## Question 4: Write a program to swap two numbers in Python without using a temporary variable."
   ]
  },
  {
   "cell_type": "code",
   "execution_count": 14,
   "metadata": {},
   "outputs": [
    {
     "name": "stdout",
     "output_type": "stream",
     "text": [
      "The value of a is 6\n",
      "The value of b is 4\n"
     ]
    }
   ],
   "source": [
    "a=4\n",
    "b=6\n",
    "a=a+b\n",
    "b=a-b\n",
    "a=a-b\n",
    "print(\"The value of a is\",a)\n",
    "print(\"The value of b is\",b)"
   ]
  },
  {
   "cell_type": "markdown",
   "metadata": {},
   "source": [
    "## Question 5: Write a program to convert fahrenheit to kelvin and celsius both."
   ]
  },
  {
   "cell_type": "code",
   "execution_count": 29,
   "metadata": {},
   "outputs": [
    {
     "name": "stdout",
     "output_type": "stream",
     "text": [
      "Enter the temperature in Farenheit: 263\n",
      "Temperature in kelvin is 401.4833333333334\n",
      "Temperature in celsius is 128.33333333333334\n"
     ]
    }
   ],
   "source": [
    "faren=float(input(\"Enter the temperature in Farenheit: \"))\n",
    "kelvin=(faren+459.67)*(5/9)\n",
    "celsius=(faren-32)/1.8\n",
    "print(\"Temperature in kelvin is\",kelvin)\n",
    "print(\"Temperature in celsius is\",celsius)\n"
   ]
  },
  {
   "cell_type": "markdown",
   "metadata": {},
   "source": [
    "## Question 6: Write a program to demonstrate all the available data types in Python. Hint: Use type() function."
   ]
  },
  {
   "cell_type": "code",
   "execution_count": 34,
   "metadata": {},
   "outputs": [
    {
     "name": "stdout",
     "output_type": "stream",
     "text": [
      "<class 'int'>\n",
      "<class 'str'>\n",
      "<class 'complex'>\n",
      "<class 'float'>\n",
      "<class 'tuple'>\n",
      "<class 'list'>\n",
      "<class 'dict'>\n"
     ]
    }
   ],
   "source": [
    "a=1\n",
    "b=\"1\"\n",
    "c=1+1j\n",
    "f=1.0\n",
    "t=(1,2,3,4)\n",
    "l=[1,2,3,4]\n",
    "d={\"a\":1,\"b\":2}\n",
    "print(type(a))\n",
    "print(type(b))\n",
    "print(type(c))\n",
    "print(type(f))\n",
    "print(type(t))\n",
    "print(type(l))\n",
    "print(type(d))"
   ]
  },
  {
   "cell_type": "markdown",
   "metadata": {},
   "source": [
    "## Question 7: Create a Markdown cell in jupyter and list the steps discussed in the session by Dr. Darshan Ingle sir to create Github profile and upload Githubs Assignment link. "
   ]
  },
  {
   "cell_type": "markdown",
   "metadata": {},
   "source": [
    "Step 1:- If you are not an existing user in Gihub, then sign up with Github.                                                   \n",
    "Step 2:- Make a Github repository with the name \"LetsUpgrade AI-ML\".                                                           \n",
    "Step 3:- Set the description as \"Assignments\".                                                                                 \n",
    "Step 4:- Mark the repository as public so that it is visible to everyone.                                                       \n",
    "Step 5:- Click on \"Create Repository\" so that the repository is created.                                                       \n",
    "Step 6:- Got to add file option, then drag and drop the required file and it will be stored in the remote repository.           \n",
    "                                                                                                                               \n",
    "Note:- You should have just one repository inside which you will have multiple folders for subsequent assignments.\n"
   ]
  }
 ],
 "metadata": {
  "kernelspec": {
   "display_name": "Python 3",
   "language": "python",
   "name": "python3"
  },
  "language_info": {
   "codemirror_mode": {
    "name": "ipython",
    "version": 3
   },
   "file_extension": ".py",
   "mimetype": "text/x-python",
   "name": "python",
   "nbconvert_exporter": "python",
   "pygments_lexer": "ipython3",
   "version": "3.7.6"
  }
 },
 "nbformat": 4,
 "nbformat_minor": 4
}
