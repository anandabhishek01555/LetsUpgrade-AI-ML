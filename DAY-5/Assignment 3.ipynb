{
 "cells": [
  {
   "cell_type": "markdown",
   "metadata": {},
   "source": [
    "## Question 1 : Write a Python program to find the first 20 non-even prime natural numbers. "
   ]
  },
  {
   "cell_type": "code",
   "execution_count": 2,
   "metadata": {},
   "outputs": [
    {
     "name": "stdout",
     "output_type": "stream",
     "text": [
      "3\n",
      "5\n",
      "7\n",
      "11\n",
      "13\n",
      "17\n",
      "19\n",
      "23\n",
      "29\n",
      "31\n",
      "37\n",
      "41\n",
      "43\n",
      "47\n",
      "53\n",
      "59\n",
      "61\n",
      "67\n",
      "71\n",
      "73\n"
     ]
    }
   ],
   "source": [
    "i=1\n",
    "count = 0;\n",
    "x = 20\n",
    "while (count < x):\n",
    "    c=0\n",
    "    for j in range (1, (i+1)):\n",
    "        a = i%j\n",
    "        if (a==0):\n",
    "            c = c+1\n",
    "    if (c==2):\n",
    "        if(i%2!=0):\n",
    "            print (i)\n",
    "            count = count+1\n",
    "    i=i+1\n",
    "    "
   ]
  },
  {
   "cell_type": "markdown",
   "metadata": {},
   "source": [
    "## Question 2 : Write a Python program to implement 15 functions of string."
   ]
  },
  {
   "cell_type": "code",
   "execution_count": 29,
   "metadata": {},
   "outputs": [
    {
     "name": "stdout",
     "output_type": "stream",
     "text": [
      "Abhishek\n",
      "abhishek\n",
      "1\n",
      "False\n",
      "True\n",
      "True\n",
      "3\n",
      "False\n",
      "False\n",
      "abhishek\n",
      "ABHISHEK\n",
      "ABHISHek\n",
      "abhIshEK\n",
      "-1\n",
      "['abh', 'shEK']\n",
      "abhishEK\n"
     ]
    }
   ],
   "source": [
    "s=\"abhishEK\"\n",
    "print(s.capitalize())\n",
    "print(s.casefold())\n",
    "print(s.count(\"a\"))\n",
    "print(s.endswith(\"k\"))\n",
    "print(s.isalpha())\n",
    "print(s.isalnum())\n",
    "print(s.index(\"i\"))\n",
    "print(s.islower())\n",
    "print(s.isupper())\n",
    "print(s.lower())\n",
    "print(s.upper())\n",
    "print(s.swapcase())\n",
    "print(s.replace(\"i\",\"I\"))\n",
    "print(s.find(\"z\"))\n",
    "print(s.split(\"i\"))"
   ]
  },
  {
   "cell_type": "markdown",
   "metadata": {},
   "source": [
    "## Question 3: Write a Python program to check if the given string is a Palindrome or Anagram or None of them. Display the message accordingly to the user."
   ]
  },
  {
   "cell_type": "code",
   "execution_count": 6,
   "metadata": {},
   "outputs": [
    {
     "name": "stdout",
     "output_type": "stream",
     "text": [
      "Enter a string : abhi\n",
      "Enter a string : bhai\n",
      "String is an anagram\n"
     ]
    }
   ],
   "source": [
    "a=input(\"Enter a string : \")\n",
    "b=input(\"Enter a string : \")\n",
    "if(b[::-1]==a):\n",
    "    print(\"String is a palindrome\")\n",
    "elif(sorted(b)==sorted(a)):\n",
    "    print(\"String is an anagram\")\n",
    "else:\n",
    "    print(\"String is neither anangram nor palindrome\")"
   ]
  },
  {
   "cell_type": "markdown",
   "metadata": {},
   "source": [
    "## Question 4: Write a Python's user defined function that removes all the additional characters from the string and converts it finally to lower case using built-in lower(). eg: If the string is \"Dr. Darshan Ingle @AI-ML Trainer\", then the output be \"drdarshaningle aimltrainer\"."
   ]
  },
  {
   "cell_type": "code",
   "execution_count": 2,
   "metadata": {},
   "outputs": [
    {
     "name": "stdout",
     "output_type": "stream",
     "text": [
      "Abhi---:) you are a good boy\n",
      "abhiyouareagoodboy"
     ]
    }
   ],
   "source": [
    "s=input()\n",
    "s=s.lower()\n",
    "for i in s:\n",
    "    if i.isdigit() or (ord(i)>=96 and ord(i)<=122):\n",
    "        print(i,end=\"\")"
   ]
  }
 ],
 "metadata": {
  "kernelspec": {
   "display_name": "Python 3",
   "language": "python",
   "name": "python3"
  },
  "language_info": {
   "codemirror_mode": {
    "name": "ipython",
    "version": 3
   },
   "file_extension": ".py",
   "mimetype": "text/x-python",
   "name": "python",
   "nbconvert_exporter": "python",
   "pygments_lexer": "ipython3",
   "version": "3.7.6"
  }
 },
 "nbformat": 4,
 "nbformat_minor": 4
}
