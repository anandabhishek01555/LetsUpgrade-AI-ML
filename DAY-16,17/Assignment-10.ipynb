{
 "cells": [
  {
   "cell_type": "code",
   "execution_count": 32,
   "metadata": {
    "colab": {},
    "colab_type": "code",
    "id": "oLt4MZE6dupZ"
   },
   "outputs": [],
   "source": [
    "%matplotlib inline\n",
    "import pandas as pd"
   ]
  },
  {
   "cell_type": "code",
   "execution_count": 51,
   "metadata": {
    "colab": {},
    "colab_type": "code",
    "id": "lSszc1sqdupm",
    "outputId": "4baaa15d-5dff-43d0-d7c1-c16c3ba9fcce"
   },
   "outputs": [
    {
     "data": {
      "text/html": [
       "<div>\n",
       "<style scoped>\n",
       "    .dataframe tbody tr th:only-of-type {\n",
       "        vertical-align: middle;\n",
       "    }\n",
       "\n",
       "    .dataframe tbody tr th {\n",
       "        vertical-align: top;\n",
       "    }\n",
       "\n",
       "    .dataframe thead th {\n",
       "        text-align: right;\n",
       "    }\n",
       "</style>\n",
       "<table border=\"1\" class=\"dataframe\">\n",
       "  <thead>\n",
       "    <tr style=\"text-align: right;\">\n",
       "      <th></th>\n",
       "      <th>title</th>\n",
       "      <th>year</th>\n",
       "    </tr>\n",
       "  </thead>\n",
       "  <tbody>\n",
       "    <tr>\n",
       "      <th>0</th>\n",
       "      <td>Tasveer Mere Sanam</td>\n",
       "      <td>1996</td>\n",
       "    </tr>\n",
       "    <tr>\n",
       "      <th>1</th>\n",
       "      <td>Only You</td>\n",
       "      <td>1994</td>\n",
       "    </tr>\n",
       "    <tr>\n",
       "      <th>2</th>\n",
       "      <td>El pueblo del terror</td>\n",
       "      <td>1970</td>\n",
       "    </tr>\n",
       "    <tr>\n",
       "      <th>3</th>\n",
       "      <td>Machine</td>\n",
       "      <td>2007</td>\n",
       "    </tr>\n",
       "    <tr>\n",
       "      <th>4</th>\n",
       "      <td>MARy</td>\n",
       "      <td>2008</td>\n",
       "    </tr>\n",
       "    <tr>\n",
       "      <th>5</th>\n",
       "      <td>Tight Spot</td>\n",
       "      <td>1955</td>\n",
       "    </tr>\n",
       "    <tr>\n",
       "      <th>6</th>\n",
       "      <td>Chocolate (II)</td>\n",
       "      <td>2011</td>\n",
       "    </tr>\n",
       "    <tr>\n",
       "      <th>7</th>\n",
       "      <td>Wang de Shengyan</td>\n",
       "      <td>2012</td>\n",
       "    </tr>\n",
       "    <tr>\n",
       "      <th>8</th>\n",
       "      <td>Bao dao mei ren</td>\n",
       "      <td>1956</td>\n",
       "    </tr>\n",
       "    <tr>\n",
       "      <th>9</th>\n",
       "      <td>A Man Called Nereus</td>\n",
       "      <td>2012</td>\n",
       "    </tr>\n",
       "  </tbody>\n",
       "</table>\n",
       "</div>"
      ],
      "text/plain": [
       "                  title  year\n",
       "0    Tasveer Mere Sanam  1996\n",
       "1              Only You  1994\n",
       "2  El pueblo del terror  1970\n",
       "3               Machine  2007\n",
       "4                  MARy  2008\n",
       "5            Tight Spot  1955\n",
       "6        Chocolate (II)  2011\n",
       "7      Wang de Shengyan  2012\n",
       "8       Bao dao mei ren  1956\n",
       "9   A Man Called Nereus  2012"
      ]
     },
     "execution_count": 51,
     "metadata": {},
     "output_type": "execute_result"
    }
   ],
   "source": [
    "titles = pd.read_csv('titles.csv')\n",
    "cast = pd.read_csv('cast.csv')\n",
    "titles.head(10)"
   ]
  },
  {
   "cell_type": "code",
   "execution_count": 34,
   "metadata": {
    "colab": {},
    "colab_type": "code",
    "id": "dbNZprmydupq"
   },
   "outputs": [
    {
     "data": {
      "text/plain": [
       "title    0\n",
       "year     0\n",
       "dtype: int64"
      ]
     },
     "execution_count": 34,
     "metadata": {},
     "output_type": "execute_result"
    }
   ],
   "source": [
    "titles.isnull().sum()"
   ]
  },
  {
   "cell_type": "markdown",
   "metadata": {
    "colab_type": "text",
    "collapsed": true,
    "id": "xpb5_S_Odupt"
   },
   "source": [
    "### How many movies are listed in the titles dataframe?"
   ]
  },
  {
   "cell_type": "code",
   "execution_count": 35,
   "metadata": {
    "colab": {},
    "colab_type": "code",
    "id": "MdABOtYfdupu"
   },
   "outputs": [
    {
     "name": "stdout",
     "output_type": "stream",
     "text": [
      "The number of movies listed in the titles dataframe are : 244914\n"
     ]
    }
   ],
   "source": [
    "movies = titles['title'].count()\n",
    "print(\"The number of movies listed in the titles dataframe are :\",movies)"
   ]
  },
  {
   "cell_type": "markdown",
   "metadata": {
    "colab_type": "text",
    "collapsed": true,
    "id": "9ueLDW2Cdup7"
   },
   "source": [
    "### What are the earliest two films listed in the titles dataframe?"
   ]
  },
  {
   "cell_type": "code",
   "execution_count": 36,
   "metadata": {
    "colab": {},
    "colab_type": "code",
    "id": "7lofPcJwdup8"
   },
   "outputs": [
    {
     "name": "stdout",
     "output_type": "stream",
     "text": [
      "Two Earliest films are as below: \n",
      "                 title  year\n",
      "0          Miss Jerry  1894\n",
      "1  The Startled Lover  1898\n"
     ]
    }
   ],
   "source": [
    "early = titles.sort_values('year',ascending=True,ignore_index=True)\n",
    "print (\"Two Earliest films are as below: \\n\",early.iloc[0:2])"
   ]
  },
  {
   "cell_type": "markdown",
   "metadata": {
    "colab_type": "text",
    "collapsed": true,
    "id": "X5jleiEQduqK"
   },
   "source": [
    "### How many movies have the title \"Hamlet\"?"
   ]
  },
  {
   "cell_type": "code",
   "execution_count": 37,
   "metadata": {
    "colab": {},
    "colab_type": "code",
    "id": "O-QhDJigduqL"
   },
   "outputs": [
    {
     "name": "stdout",
     "output_type": "stream",
     "text": [
      "There are 20 movies have the titled Hamlet\n"
     ]
    }
   ],
   "source": [
    "movie_Hamlet=titles[titles['title']==\"Hamlet\"][\"title\"].count()\n",
    "print(\"There are\",movie_Hamlet,\"movies have the titled Hamlet\")"
   ]
  },
  {
   "cell_type": "markdown",
   "metadata": {
    "colab_type": "text",
    "collapsed": true,
    "id": "Z-8M1xILduqV"
   },
   "source": [
    "### How many movies are titled \"North by Northwest\"?"
   ]
  },
  {
   "cell_type": "code",
   "execution_count": 38,
   "metadata": {
    "colab": {},
    "colab_type": "code",
    "id": "5XyzqpQ_duqW"
   },
   "outputs": [
    {
     "name": "stdout",
     "output_type": "stream",
     "text": [
      "No. of Movies having title North by Northwest are:  1\n"
     ]
    }
   ],
   "source": [
    "print(\"No. of Movies having title North by Northwest are: \",titles[titles[\"title\"]== \"North by Northwest\"][\"title\"].count())"
   ]
  },
  {
   "cell_type": "markdown",
   "metadata": {
    "colab_type": "text",
    "collapsed": true,
    "id": "zhImpL8Uduqc"
   },
   "source": [
    "### When was the first movie titled \"Hamlet\" made?"
   ]
  },
  {
   "cell_type": "code",
   "execution_count": 42,
   "metadata": {
    "colab": {},
    "colab_type": "code",
    "id": "sOIUXASsduqd"
   },
   "outputs": [
    {
     "name": "stdout",
     "output_type": "stream",
     "text": [
      "Year in which first movie titled Hamlet was made in :  1910\n"
     ]
    }
   ],
   "source": [
    "print(\"Year in which first movie titled Hamlet was made in : \",\n",
    "      early[early[\"title\"]== \"Hamlet\"][\"year\"].iloc[0])"
   ]
  },
  {
   "cell_type": "markdown",
   "metadata": {
    "colab_type": "text",
    "collapsed": true,
    "id": "DDPt7oUtduqm"
   },
   "source": [
    "### List all of the \"Treasure Island\" movies from earliest to most recent."
   ]
  },
  {
   "cell_type": "code",
   "execution_count": 43,
   "metadata": {
    "colab": {},
    "colab_type": "code",
    "id": "ktL3eWzuduqn"
   },
   "outputs": [
    {
     "name": "stdout",
     "output_type": "stream",
     "text": [
      "List all of the  movies from earliest to most recent:\n",
      " 5517      1918\n",
      "7962      1920\n",
      "19991     1934\n",
      "35662     1950\n",
      "70280     1972\n",
      "72265     1973\n",
      "97241     1985\n",
      "128205    1999\n",
      "Name: year, dtype: int64\n"
     ]
    }
   ],
   "source": [
    "print(\"List all of the  movies from earliest to most recent:\\n\",\n",
    "      early[early[\"title\"]== \"Treasure Island\"][\"year\"])"
   ]
  },
  {
   "cell_type": "markdown",
   "metadata": {
    "colab_type": "text",
    "collapsed": true,
    "id": "8qp3VwITduqr"
   },
   "source": [
    "### How many movies were made in the year 1950?"
   ]
  },
  {
   "cell_type": "code",
   "execution_count": 44,
   "metadata": {
    "colab": {},
    "colab_type": "code",
    "id": "YhDxcBf4duqr"
   },
   "outputs": [
    {
     "name": "stdout",
     "output_type": "stream",
     "text": [
      "No of Movies made in 1950 :  1113\n"
     ]
    }
   ],
   "source": [
    "print(\"No of Movies made in 1950 : \",titles[titles[\"year\"]== 1950][\"title\"].count())"
   ]
  },
  {
   "cell_type": "markdown",
   "metadata": {
    "colab_type": "text",
    "collapsed": true,
    "id": "oKlE_CDoduqv"
   },
   "source": [
    "### How many movies were made in the year 1960?"
   ]
  },
  {
   "cell_type": "code",
   "execution_count": 45,
   "metadata": {
    "colab": {},
    "colab_type": "code",
    "id": "ZqlyvNJMduqw"
   },
   "outputs": [
    {
     "name": "stdout",
     "output_type": "stream",
     "text": [
      "No of Movies made in 1950 :  1549\n"
     ]
    }
   ],
   "source": [
    "print(\"No of Movies made in 1950 : \",titles[titles[\"year\"]== 1960][\"title\"].count())"
   ]
  },
  {
   "cell_type": "markdown",
   "metadata": {
    "colab_type": "text",
    "collapsed": true,
    "id": "fki9E5ynduq3"
   },
   "source": [
    "### How many movies were made from 1950 through 1959?"
   ]
  },
  {
   "cell_type": "markdown",
   "metadata": {
    "colab_type": "text",
    "id": "f4ip0jQUduq4"
   },
   "source": []
  },
  {
   "cell_type": "code",
   "execution_count": 47,
   "metadata": {
    "colab": {},
    "colab_type": "code",
    "id": "JKp3QiePduq4"
   },
   "outputs": [
    {
     "name": "stdout",
     "output_type": "stream",
     "text": [
      "No of Movies made from 1950 through 1959 :  12934\n"
     ]
    }
   ],
   "source": [
    "print(\"No of Movies made from 1950 through 1959 : \"\n",
    "      ,early[(early[\"year\"] > 1949) & (early[\"year\"] < 1960)][\"title\"].count())"
   ]
  },
  {
   "cell_type": "markdown",
   "metadata": {
    "colab_type": "text",
    "collapsed": true,
    "id": "URw-0KjKduq8"
   },
   "source": [
    "### In what years has a movie titled \"Batman\" been released?"
   ]
  },
  {
   "cell_type": "code",
   "execution_count": 49,
   "metadata": {
    "colab": {},
    "colab_type": "code",
    "id": "4wjBPryuduq8"
   },
   "outputs": [
    {
     "name": "stdout",
     "output_type": "stream",
     "text": [
      "List all of the  movies titled Batman:\n",
      " 29485     1943\n",
      "105004    1989\n",
      "Name: year, dtype: int64\n"
     ]
    }
   ],
   "source": [
    "print(\"List all of the  movies titled Batman:\\n\",\n",
    "      early[early[\"title\"]== \"Batman\"][\"year\"])"
   ]
  },
  {
   "cell_type": "markdown",
   "metadata": {
    "colab_type": "text",
    "collapsed": true,
    "id": "xY_lsDbcdurA"
   },
   "source": [
    "### How many roles were there in the movie \"Inception\"?"
   ]
  },
  {
   "cell_type": "code",
   "execution_count": 52,
   "metadata": {
    "colab": {},
    "colab_type": "code",
    "id": "fsbS_of3durA"
   },
   "outputs": [
    {
     "name": "stdout",
     "output_type": "stream",
     "text": [
      "No of roles in Inception Movie :  (78,)\n"
     ]
    }
   ],
   "source": [
    "print(\"No of roles in Inception Movie : \",cast[cast[\"title\"]== \"Inception\"][\"n\"].shape)"
   ]
  },
  {
   "cell_type": "markdown",
   "metadata": {
    "colab_type": "text",
    "collapsed": true,
    "id": "a3utk7WqdurI"
   },
   "source": [
    "### How many roles in the movie \"Inception\" are NOT ranked by an \"n\" value?"
   ]
  },
  {
   "cell_type": "code",
   "execution_count": 53,
   "metadata": {
    "colab": {},
    "colab_type": "code",
    "id": "7fnRkZqXdurI"
   },
   "outputs": [
    {
     "name": "stdout",
     "output_type": "stream",
     "text": [
      "No of roles in Inception Movie which are not ranked :  27\n"
     ]
    }
   ],
   "source": [
    "print(\"No of roles in Inception Movie which are not ranked : \"\n",
    "      ,cast[cast[\"title\"]== \"Inception\"][\"n\"].isnull().sum())"
   ]
  },
  {
   "cell_type": "markdown",
   "metadata": {
    "colab_type": "text",
    "collapsed": true,
    "id": "tXKzUDsGdurS"
   },
   "source": [
    "### But how many roles in the movie \"Inception\" did receive an \"n\" value?"
   ]
  },
  {
   "cell_type": "code",
   "execution_count": 54,
   "metadata": {
    "colab": {},
    "colab_type": "code",
    "id": "eESqLxU5durT"
   },
   "outputs": [
    {
     "name": "stdout",
     "output_type": "stream",
     "text": [
      "No of roles in Inception Movie which are not ranked :  51\n"
     ]
    }
   ],
   "source": [
    "print(\"No of roles in Inception Movie which are not ranked : \"\n",
    "      ,cast[cast[\"title\"]== \"Inception\"][\"n\"].notnull().sum())"
   ]
  },
  {
   "cell_type": "markdown",
   "metadata": {
    "colab_type": "text",
    "collapsed": true,
    "id": "v9hsijkadura"
   },
   "source": [
    "### Display the cast of \"North by Northwest\" in their correct \"n\"-value order, ignoring roles that did not earn a numeric \"n\" value."
   ]
  },
  {
   "cell_type": "code",
   "execution_count": 55,
   "metadata": {
    "colab": {},
    "colab_type": "code",
    "id": "Ju5b8hg8durb"
   },
   "outputs": [],
   "source": [
    "df_NbN = cast[cast[\"title\"]== \"North by Northwest\"].sort_values('n',ascending=True,ignore_index=True)"
   ]
  },
  {
   "cell_type": "code",
   "execution_count": 56,
   "metadata": {
    "colab": {},
    "colab_type": "code",
    "id": "52Iuzfxidure"
   },
   "outputs": [
    {
     "name": "stdout",
     "output_type": "stream",
     "text": [
      "Cast who got ranked in ascending order are :\n",
      " 0               Cary Grant\n",
      "1          Eva Marie Saint\n",
      "2              James Mason\n",
      "3      Jessie Royce Landis\n",
      "4           Leo G. Carroll\n",
      "5     Josephine Hutchinson\n",
      "6              Philip Ober\n",
      "7            Martin Landau\n",
      "8            Adam Williams\n",
      "9             Edward Platt\n",
      "10       Robert Ellenstein\n",
      "11            Les Tremayne\n",
      "12         Philip Coolidge\n",
      "13           Patrick McVey\n",
      "14            Edward Binns\n",
      "15               Ken Lynch\n",
      "Name: name, dtype: object\n"
     ]
    }
   ],
   "source": [
    "df_NbN.dropna(inplace=True)\n",
    "print (\"Cast who got ranked in ascending order are :\\n\",df_NbN.name)\n"
   ]
  },
  {
   "cell_type": "markdown",
   "metadata": {
    "colab_type": "text",
    "collapsed": true,
    "id": "SloYNj1bduri"
   },
   "source": [
    "### Display the entire cast, in \"n\"-order, of the 1972 film \"Sleuth\"."
   ]
  },
  {
   "cell_type": "code",
   "execution_count": 57,
   "metadata": {
    "colab": {},
    "colab_type": "code",
    "id": "NnsNtERfdurj"
   },
   "outputs": [],
   "source": [
    "df_sl = cast[cast[\"title\"]== \"Sleuth\"].sort_values('n',ascending=True,ignore_index=True)"
   ]
  },
  {
   "cell_type": "code",
   "execution_count": 58,
   "metadata": {
    "colab": {},
    "colab_type": "code",
    "id": "nMdI1ybtdurn"
   },
   "outputs": [
    {
     "name": "stdout",
     "output_type": "stream",
     "text": [
      "List of entire cast for 1972 film Sleuth is: \n",
      " 1      Laurence Olivier\n",
      "2         Michael Caine\n",
      "4        Alec Cawthorne\n",
      "6    John (II) Matthews\n",
      "7    Eve (III) Channing\n",
      "8          Teddy Martin\n",
      "Name: name, dtype: object\n"
     ]
    }
   ],
   "source": [
    "print (\"List of entire cast for 1972 film Sleuth is: \\n\",df_sl[df_sl[\"year\"]==1972].name)"
   ]
  },
  {
   "cell_type": "markdown",
   "metadata": {
    "colab_type": "text",
    "collapsed": true,
    "id": "55xFU8hzdurq"
   },
   "source": [
    "### Now display the entire cast, in \"n\"-order, of the 2007 version of \"Sleuth\"."
   ]
  },
  {
   "cell_type": "code",
   "execution_count": 59,
   "metadata": {
    "colab": {},
    "colab_type": "code",
    "id": "nX-q6FSldurq"
   },
   "outputs": [
    {
     "name": "stdout",
     "output_type": "stream",
     "text": [
      "List of entire cast for 1972 film Sleuth is: \n",
      " 0           Michael Caine\n",
      "3                Jude Law\n",
      "5           Harold Pinter\n",
      "9         Kenneth Branagh\n",
      "10    Alec (II) Cawthorne\n",
      "11      Eve (II) Channing\n",
      "12      Carmel O'Sullivan\n",
      "Name: name, dtype: object\n"
     ]
    }
   ],
   "source": [
    "print (\"List of entire cast for 1972 film Sleuth is: \\n\",df_sl[df_sl[\"year\"]==2007].name)"
   ]
  },
  {
   "cell_type": "markdown",
   "metadata": {
    "colab_type": "text",
    "collapsed": true,
    "id": "q2BMKhBrdurw"
   },
   "source": [
    "### How many roles were credited in the silent 1921 version of Hamlet?"
   ]
  },
  {
   "cell_type": "code",
   "execution_count": 60,
   "metadata": {
    "colab": {},
    "colab_type": "code",
    "id": "X5QtCLB6durw"
   },
   "outputs": [],
   "source": [
    "df_ham = cast[cast[\"title\"]== \"Hamlet\"].sort_values('n',ascending=True,ignore_index=True)"
   ]
  },
  {
   "cell_type": "code",
   "execution_count": 61,
   "metadata": {
    "colab": {},
    "colab_type": "code",
    "id": "oFhE116sdurz"
   },
   "outputs": [
    {
     "name": "stdout",
     "output_type": "stream",
     "text": [
      "No of roles credited in 1921 version of Hamlet :  9\n"
     ]
    }
   ],
   "source": [
    "print (\"No of roles credited in 1921 version of Hamlet : \",df_ham[df_ham[\"year\"]==1921].name.count())"
   ]
  },
  {
   "cell_type": "markdown",
   "metadata": {
    "colab_type": "text",
    "collapsed": true,
    "id": "nO4JUeFUdur3"
   },
   "source": [
    "### How many roles were credited in Branagh’s 1996 Hamlet?"
   ]
  },
  {
   "cell_type": "code",
   "execution_count": 62,
   "metadata": {
    "colab": {},
    "colab_type": "code",
    "id": "Rtee-NW_dur3"
   },
   "outputs": [
    {
     "name": "stdout",
     "output_type": "stream",
     "text": [
      "No of roles credited in 1996 version of Hamlet :  54\n"
     ]
    }
   ],
   "source": [
    "print (\"No of roles credited in 1996 version of Hamlet : \",df_ham[df_ham[\"year\"]==1996].name.count())"
   ]
  },
  {
   "cell_type": "markdown",
   "metadata": {
    "colab_type": "text",
    "collapsed": true,
    "id": "ivR4ZEVodur9"
   },
   "source": [
    "### How many \"Hamlet\" roles have been listed in all film credits through history?"
   ]
  },
  {
   "cell_type": "code",
   "execution_count": 63,
   "metadata": {
    "colab": {},
    "colab_type": "code",
    "id": "DUHDCQ1FdusC"
   },
   "outputs": [
    {
     "name": "stdout",
     "output_type": "stream",
     "text": [
      "No of Roles in all Hamlet movies are :  312\n"
     ]
    }
   ],
   "source": [
    "print (\"No of Roles in all Hamlet movies are : \",len(df_ham.name.unique()))"
   ]
  },
  {
   "cell_type": "markdown",
   "metadata": {
    "colab_type": "text",
    "collapsed": true,
    "id": "xOZlUH-FdusN"
   },
   "source": [
    "### How many people have played an \"Ophelia\"?"
   ]
  },
  {
   "cell_type": "code",
   "execution_count": 64,
   "metadata": {
    "colab": {},
    "colab_type": "code",
    "id": "7OsI_j5ZdusO"
   },
   "outputs": [
    {
     "name": "stdout",
     "output_type": "stream",
     "text": [
      "No of people who played Ophelia character are :  115\n"
     ]
    }
   ],
   "source": [
    "print (\"No of people who played Ophelia character are : \",\n",
    "       len(cast[cast[\"character\"]== \"Ophelia\"][\"name\"].unique()))"
   ]
  },
  {
   "cell_type": "markdown",
   "metadata": {
    "colab_type": "text",
    "collapsed": true,
    "id": "3nFvFEALdusZ"
   },
   "source": [
    "### How many people have played a role called \"The Dude\"?"
   ]
  },
  {
   "cell_type": "code",
   "execution_count": 65,
   "metadata": {
    "colab": {},
    "colab_type": "code",
    "id": "7HrQ1NP_dusa"
   },
   "outputs": [
    {
     "name": "stdout",
     "output_type": "stream",
     "text": [
      "No of people who played The Dude character are :  19\n"
     ]
    }
   ],
   "source": [
    "print (\"No of people who played The Dude character are : \",\n",
    "       len(cast[cast[\"character\"]== \"The Dude\"][\"name\"].unique()))"
   ]
  },
  {
   "cell_type": "markdown",
   "metadata": {
    "colab_type": "text",
    "collapsed": true,
    "id": "rCOeJbNEdusi"
   },
   "source": [
    "### How many people have played a role called \"The Stranger\"?"
   ]
  },
  {
   "cell_type": "code",
   "execution_count": 66,
   "metadata": {
    "colab": {},
    "colab_type": "code",
    "id": "BxUvFxIIdusi"
   },
   "outputs": [
    {
     "name": "stdout",
     "output_type": "stream",
     "text": [
      "No of people who played The Stranger character are :  202\n"
     ]
    }
   ],
   "source": [
    "\n",
    "print (\"No of people who played The Stranger character are : \",\n",
    "       len(cast[cast[\"character\"]== \"The Stranger\"][\"name\"].unique()))"
   ]
  },
  {
   "cell_type": "markdown",
   "metadata": {
    "colab_type": "text",
    "collapsed": true,
    "id": "vs0gHNEodusp"
   },
   "source": [
    "### How many roles has Sidney Poitier played throughout his career?"
   ]
  },
  {
   "cell_type": "code",
   "execution_count": 67,
   "metadata": {
    "colab": {},
    "colab_type": "code",
    "id": "YtN66F4fdusq"
   },
   "outputs": [
    {
     "name": "stdout",
     "output_type": "stream",
     "text": [
      "No of roles played by Sidney Poitier throughout his career :  41\n"
     ]
    }
   ],
   "source": [
    "print (\"No of roles played by Sidney Poitier throughout his career : \",\n",
    "       len(cast[cast[\"name\"]== \"Sidney Poitier\"][\"character\"].unique()))"
   ]
  },
  {
   "cell_type": "markdown",
   "metadata": {
    "colab_type": "text",
    "collapsed": true,
    "id": "BYqzApmsdusw"
   },
   "source": [
    "### How many roles has Judi Dench played?"
   ]
  },
  {
   "cell_type": "code",
   "execution_count": 68,
   "metadata": {
    "colab": {},
    "colab_type": "code",
    "id": "NOesnxy5dusx"
   },
   "outputs": [
    {
     "name": "stdout",
     "output_type": "stream",
     "text": [
      "No of roles played by Judi Dench throughout his career :  46\n"
     ]
    }
   ],
   "source": [
    "print (\"No of roles played by Judi Dench throughout his career : \",\n",
    "       len(cast[cast[\"name\"]== \"Judi Dench\"][\"character\"].unique()))"
   ]
  },
  {
   "cell_type": "markdown",
   "metadata": {
    "colab_type": "text",
    "collapsed": true,
    "id": "4QYmtHuZdus5"
   },
   "source": [
    "### List the supporting roles (having n=2) played by Cary Grant in the 1940s, in order by year."
   ]
  },
  {
   "cell_type": "code",
   "execution_count": 69,
   "metadata": {
    "colab": {},
    "colab_type": "code",
    "id": "TzC1zZUBdus5"
   },
   "outputs": [
    {
     "name": "stdout",
     "output_type": "stream",
     "text": [
      "List of supporting roles having n=2 in 1940s are:\n",
      " 0     Nick Arden\n",
      "1    Roger Adams\n",
      "Name: character, dtype: object\n"
     ]
    }
   ],
   "source": [
    "print(\"List of supporting roles having n=2 in 1940s are:\\n\"\n",
    "      ,cast[(cast[\"year\"] > 1939) & \n",
    "     (cast[\"year\"] < 1950) & (cast[\"name\"] == \"Cary Grant\") & \n",
    "     (cast[\"n\"] == 2.0)].sort_values('year',ascending=True,ignore_index=True).character)"
   ]
  },
  {
   "cell_type": "markdown",
   "metadata": {
    "colab_type": "text",
    "collapsed": true,
    "id": "hhHzhO9-dutB"
   },
   "source": [
    "### List the leading roles that Cary Grant played in the 1940s in order by year."
   ]
  },
  {
   "cell_type": "code",
   "execution_count": 70,
   "metadata": {
    "colab": {},
    "colab_type": "code",
    "id": "GG_8nk3vdutB"
   },
   "outputs": [
    {
     "name": "stdout",
     "output_type": "stream",
     "text": [
      "List of leading roles having n=1 in 1940s are:\n",
      " 0                              Matt Howard\n",
      "1                             Walter Burns\n",
      "2                       C. K. Dexter Haven\n",
      "3                         Johnnie Aysgarth\n",
      "4                             Leopold Dilg\n",
      "5                    Patrick 'Pat' O'Toole\n",
      "6                            Capt. Cassidy\n",
      "7     Joe Adams -posing as Joe Bascopolous\n",
      "8                              Jerry Flynn\n",
      "9                        Mortimer Brewster\n",
      "10                              Ernie Mott\n",
      "11                             Cole Porter\n",
      "12                                  Devlin\n",
      "13                             Dick Nugent\n",
      "14                                  Dudley\n",
      "15                           Jim Blandings\n",
      "16                       Dr. Madison Brown\n",
      "17                   Captain Henri Rochard\n",
      "Name: character, dtype: object\n"
     ]
    }
   ],
   "source": [
    "print(\"List of leading roles having n=1 in 1940s are:\\n\"\n",
    "      ,cast[(cast[\"year\"] > 1939) & \n",
    "     (cast[\"year\"] < 1950) & (cast[\"name\"] == \"Cary Grant\") & \n",
    "     (cast[\"n\"] == 1.0)].sort_values('year',ascending=True,ignore_index=True).character)"
   ]
  },
  {
   "cell_type": "markdown",
   "metadata": {
    "colab_type": "text",
    "collapsed": true,
    "id": "BqUxtNjZdutK"
   },
   "source": [
    "### How many roles were available for actors in the 1950s?"
   ]
  },
  {
   "cell_type": "code",
   "execution_count": 71,
   "metadata": {
    "colab": {},
    "colab_type": "code",
    "id": "i_L92FckdutL"
   },
   "outputs": [
    {
     "name": "stdout",
     "output_type": "stream",
     "text": [
      "No of roles which were available in 1950s are:  215471\n"
     ]
    }
   ],
   "source": [
    "\n",
    "print(\"No of roles which were available in 1950s are: \"\n",
    "      ,len(cast[(cast[\"year\"] > 1949) & \n",
    "     (cast[\"year\"] < 1960) ].n))"
   ]
  },
  {
   "cell_type": "markdown",
   "metadata": {
    "colab_type": "text",
    "collapsed": true,
    "id": "EoTvbKA-dutS"
   },
   "source": [
    "### How many roles were available for actresses in the 1950s?"
   ]
  },
  {
   "cell_type": "code",
   "execution_count": 72,
   "metadata": {
    "colab": {},
    "colab_type": "code",
    "id": "LqnbaRHGdutU"
   },
   "outputs": [
    {
     "name": "stdout",
     "output_type": "stream",
     "text": [
      "No of roles which were available in 1950s for actresses are:  57733\n"
     ]
    }
   ],
   "source": [
    "\n",
    "print(\"No of roles which were available in 1950s for actresses are: \"\n",
    "      ,len(cast[(cast[\"year\"] > 1949) & \n",
    "     (cast[\"year\"] < 1960) & (cast[\"type\"] == \"actress\" )].n))"
   ]
  },
  {
   "cell_type": "markdown",
   "metadata": {
    "colab_type": "text",
    "collapsed": true,
    "id": "rjipftEndutb"
   },
   "source": [
    "### How many leading roles (n=1) were available from the beginning of film history through 1980?"
   ]
  },
  {
   "cell_type": "code",
   "execution_count": 73,
   "metadata": {
    "colab": {},
    "colab_type": "code",
    "id": "HH0Qb-wDdutc"
   },
   "outputs": [
    {
     "name": "stdout",
     "output_type": "stream",
     "text": [
      "List of leading roles having till 1980 are:  63957\n"
     ]
    }
   ],
   "source": [
    "print(\"List of leading roles having till 1980 are: \"\n",
    "      ,cast[(cast[\"year\"] < 1980)&(cast[\"n\"] == 1.0)].sort_values('year',ascending=True,ignore_index=True).n.count())"
   ]
  },
  {
   "cell_type": "markdown",
   "metadata": {
    "colab_type": "text",
    "collapsed": true,
    "id": "VuEHazPoduti"
   },
   "source": [
    "### How many non-leading roles were available through from the beginning of film history through 1980?"
   ]
  },
  {
   "cell_type": "code",
   "execution_count": 74,
   "metadata": {
    "colab": {},
    "colab_type": "code",
    "id": "Bd6frbnCdutj"
   },
   "outputs": [
    {
     "name": "stdout",
     "output_type": "stream",
     "text": [
      "List of non leading roles having till 1980 are:  651497\n"
     ]
    }
   ],
   "source": [
    "print(\"List of non leading roles having till 1980 are: \"\n",
    "      ,cast[(cast[\"year\"] < 1980)&(cast[\"n\"] != 1.0)].sort_values('year',ascending=True,ignore_index=True).n.count())"
   ]
  },
  {
   "cell_type": "markdown",
   "metadata": {
    "colab_type": "text",
    "collapsed": true,
    "id": "29daVZNpdutn"
   },
   "source": [
    "### How many roles through 1980 were minor enough that they did not warrant a numeric \"n\" rank?"
   ]
  },
  {
   "cell_type": "code",
   "execution_count": 75,
   "metadata": {
    "colab": {},
    "colab_type": "code",
    "id": "Mj07F2ljduto"
   },
   "outputs": [
    {
     "name": "stdout",
     "output_type": "stream",
     "text": [
      "List of roles till 1980 with no numeric rank are:  443881\n"
     ]
    }
   ],
   "source": [
    "print(\"List of roles till 1980 with no numeric rank are: \",cast[(cast[\"year\"] < 1980)].n.isnull().sum())"
   ]
  }
 ],
 "metadata": {
  "colab": {
   "name": "Assignment 1.ipynb",
   "provenance": []
  },
  "kernelspec": {
   "display_name": "Python 3",
   "language": "python",
   "name": "python3"
  },
  "language_info": {
   "codemirror_mode": {
    "name": "ipython",
    "version": 3
   },
   "file_extension": ".py",
   "mimetype": "text/x-python",
   "name": "python",
   "nbconvert_exporter": "python",
   "pygments_lexer": "ipython3",
   "version": "3.7.6"
  }
 },
 "nbformat": 4,
 "nbformat_minor": 1
}
