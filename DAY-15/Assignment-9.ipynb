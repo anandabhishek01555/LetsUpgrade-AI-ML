{
 "cells": [
  {
   "cell_type": "markdown",
   "metadata": {
    "colab_type": "text",
    "id": "-uT8jf0lbFT1"
   },
   "source": [
    "# 1. Create a 3x3x3 array with random values "
   ]
  },
  {
   "cell_type": "code",
   "execution_count": 6,
   "metadata": {
    "colab": {},
    "colab_type": "code",
    "id": "jMLc3BvZbFT2"
   },
   "outputs": [
    {
     "name": "stdout",
     "output_type": "stream",
     "text": [
      "[[[0.737984   0.99530392 0.97309263]\n",
      "  [0.48748687 0.33880373 0.32159412]\n",
      "  [0.97130696 0.15396756 0.73488319]]\n",
      "\n",
      " [[0.32886685 0.98873149 0.91898559]\n",
      "  [0.53386669 0.72306467 0.26433671]\n",
      "  [0.71117835 0.68829871 0.53158805]]\n",
      "\n",
      " [[0.65528523 0.72273221 0.10463842]\n",
      "  [0.45811686 0.71115776 0.92692995]\n",
      "  [0.88996188 0.02200366 0.69969349]]]\n"
     ]
    }
   ],
   "source": [
    "import numpy as np\n",
    "x = np.random.random((3,3,3))\n",
    "print(x) "
   ]
  },
  {
   "cell_type": "markdown",
   "metadata": {
    "colab_type": "text",
    "id": "uPgZfyBxbFT7"
   },
   "source": [
    "# 2.Create a 5x5 matrix with values 1,2,3,4 just below the diagonal"
   ]
  },
  {
   "cell_type": "code",
   "execution_count": 22,
   "metadata": {
    "colab": {},
    "colab_type": "code",
    "id": "yV82v5b8bFT7"
   },
   "outputs": [
    {
     "name": "stdout",
     "output_type": "stream",
     "text": [
      "[[0 0 0 0 0]\n",
      " [1 0 0 0 0]\n",
      " [0 2 0 0 0]\n",
      " [0 0 3 0 0]\n",
      " [0 0 0 4 0]]\n"
     ]
    }
   ],
   "source": [
    "d = np.diag(1+np.arange(4), k = -1)\n",
    "print (diag)"
   ]
  },
  {
   "cell_type": "markdown",
   "metadata": {
    "colab_type": "text",
    "id": "28Ds1ay5bFT-"
   },
   "source": [
    "# 3.Create a 8x8 matrix and fill it with a checkerboard pattern"
   ]
  },
  {
   "cell_type": "code",
   "execution_count": 35,
   "metadata": {},
   "outputs": [
    {
     "data": {
      "text/plain": [
       "array([[0, 1, 0, 1, 0, 1, 0, 1],\n",
       "       [1, 0, 1, 0, 1, 0, 1, 0],\n",
       "       [0, 1, 0, 1, 0, 1, 0, 1],\n",
       "       [1, 0, 1, 0, 1, 0, 1, 0],\n",
       "       [0, 1, 0, 1, 0, 1, 0, 1],\n",
       "       [1, 0, 1, 0, 1, 0, 1, 0],\n",
       "       [0, 1, 0, 1, 0, 1, 0, 1],\n",
       "       [1, 0, 1, 0, 1, 0, 1, 0]])"
      ]
     },
     "execution_count": 35,
     "metadata": {},
     "output_type": "execute_result"
    }
   ],
   "source": [
    "x=np.array([[0,1], [1,0]])\n",
    "x1=np.tile(x,(4,4))\n",
    "x1"
   ]
  },
  {
   "cell_type": "markdown",
   "metadata": {
    "colab_type": "text",
    "id": "tuiemT5zbFUD"
   },
   "source": [
    "# 4. Normalize a 5x5 random matrix"
   ]
  },
  {
   "cell_type": "code",
   "execution_count": 36,
   "metadata": {
    "colab": {},
    "colab_type": "code",
    "id": "wxUNGkPhbFUE"
   },
   "outputs": [
    {
     "name": "stdout",
     "output_type": "stream",
     "text": [
      "[[0.85854522 0.56499623 0.36087161 0.4846514  0.30782472]\n",
      " [0.29698228 0.12079242 0.37590931 0.63159409 1.        ]\n",
      " [0.82318745 0.29599459 0.94368307 0.         0.95927503]\n",
      " [0.4817806  0.52025419 0.11088437 0.91034184 0.90121708]\n",
      " [0.98943291 0.58286008 0.75954988 0.34762704 0.77650893]]\n"
     ]
    }
   ],
   "source": [
    "\n",
    "rm = np.random.random((5,5))\n",
    "rm_max, rm_min = rm.max(), rm.min()\n",
    "rm= (rm-rm_min)/(rm_max-rm_min)\n",
    "print (rm)"
   ]
  },
  {
   "cell_type": "markdown",
   "metadata": {
    "colab_type": "text",
    "id": "Cad_DASgbFUI"
   },
   "source": [
    "# 5.  How to find common values between two arrays?"
   ]
  },
  {
   "cell_type": "code",
   "execution_count": 37,
   "metadata": {
    "colab": {},
    "colab_type": "code",
    "id": "_VReKlKobFUI"
   },
   "outputs": [
    {
     "name": "stdout",
     "output_type": "stream",
     "text": [
      "Array1:  [ 0 10 20 40 60]\n",
      "Array2:  [10, 30, 40]\n",
      "Common values between two arrays:\n",
      "[10 40]\n"
     ]
    }
   ],
   "source": [
    "import numpy as np\n",
    "array1 = np.array([0, 10, 20, 40, 60])\n",
    "print(\"Array1: \",array1)\n",
    "array2 = [10, 30, 40]\n",
    "print(\"Array2: \",array2)\n",
    "print(\"Common values between two arrays:\")\n",
    "print(np.intersect1d(array1, array2))"
   ]
  },
  {
   "cell_type": "markdown",
   "metadata": {
    "colab_type": "text",
    "id": "UdMbXIJVbFUL"
   },
   "source": [
    "# 6.How to get the dates of yesterday, today and tomorrow?"
   ]
  },
  {
   "cell_type": "code",
   "execution_count": 85,
   "metadata": {
    "colab": {},
    "colab_type": "code",
    "id": "2b25bzGsbFUL"
   },
   "outputs": [
    {
     "name": "stdout",
     "output_type": "stream",
     "text": [
      "Yestraday:  2020-07-27\n",
      "Today:  2020-07-28\n",
      "Tomorrow:  2020-07-29\n"
     ]
    }
   ],
   "source": [
    "yesterday = np.datetime64('today', 'D') - np.timedelta64(1, 'D')\n",
    "print(\"Yestraday: \",yesterday)\n",
    "today = np.datetime64('today', 'D')\n",
    "print(\"Today: \",today)\n",
    "tomorrow = np.datetime64('today', 'D') + np.timedelta64(1, 'D')\n",
    "print(\"Tomorrow: \",tomorrow)"
   ]
  },
  {
   "cell_type": "markdown",
   "metadata": {
    "colab_type": "text",
    "id": "ahHdnGjzbFUQ"
   },
   "source": [
    "# 7. Consider two random array A and B, check if they are equal"
   ]
  },
  {
   "cell_type": "code",
   "execution_count": 82,
   "metadata": {
    "colab": {},
    "colab_type": "code",
    "id": "KXanIBv_bFUQ"
   },
   "outputs": [
    {
     "name": "stdout",
     "output_type": "stream",
     "text": [
      "Array1:  [0 1 2 2 4]\n",
      "Array2:  [2 4 1 4 2]\n",
      "Two arrays are not equal\n"
     ]
    }
   ],
   "source": [
    "array1 = np.random.randint(5, size=5)\n",
    "print(\"Array1: \",array1)\n",
    "array2 = np.random.randint(5, size=5)\n",
    "print(\"Array2: \",array2)\n",
    "array_equal = np.allclose(array1, array2)\n",
    "if(array_equal=='False'):\n",
    "    print(\"Two arrays are not equal\")\n",
    "else:\n",
    "    print(\"Two arrays are not equal\")    "
   ]
  },
  {
   "cell_type": "markdown",
   "metadata": {
    "colab_type": "text",
    "id": "DkLF4217bFUT"
   },
   "source": [
    "# 8.Create random vector of size 10 and replace the maximum value by 0 "
   ]
  },
  {
   "cell_type": "code",
   "execution_count": 78,
   "metadata": {
    "colab": {},
    "colab_type": "code",
    "id": "QV1B_E1dbFUU"
   },
   "outputs": [
    {
     "name": "stdout",
     "output_type": "stream",
     "text": [
      "[8 3 9 3 9 4 2 1 4 4]\n",
      "[8 3 0 3 9 4 2 1 4 4]\n"
     ]
    }
   ],
   "source": [
    "x = np.random.randint(1,10,10)\n",
    "print(x)\n",
    "x[x.argmax()] = 0\n",
    "print(x)"
   ]
  },
  {
   "cell_type": "markdown",
   "metadata": {
    "colab_type": "text",
    "id": "XEWEgNUpbFUW"
   },
   "source": [
    "# 9. How to print all the values of an array?"
   ]
  },
  {
   "cell_type": "code",
   "execution_count": 75,
   "metadata": {
    "colab": {},
    "colab_type": "code",
    "id": "4N24aoUBbFUX"
   },
   "outputs": [
    {
     "name": "stdout",
     "output_type": "stream",
     "text": [
      "[[2 1 2]\n",
      " [4 4 3]\n",
      " [1 1 3]]\n"
     ]
    }
   ],
   "source": [
    "a = np.random.randint(1,5,(3,3))\n",
    "print(a)"
   ]
  },
  {
   "cell_type": "markdown",
   "metadata": {
    "colab_type": "text",
    "id": "ortgvIn1bFUZ"
   },
   "source": [
    "# 10.Subtract the mean of each row of a matrix"
   ]
  },
  {
   "cell_type": "code",
   "execution_count": 70,
   "metadata": {
    "colab": {},
    "colab_type": "code",
    "id": "zEPfbnrSbFUZ"
   },
   "outputs": [
    {
     "name": "stdout",
     "output_type": "stream",
     "text": [
      "[[2 2 2]\n",
      " [3 4 4]\n",
      " [2 4 4]]\n",
      "\n",
      " [[-1. -1. -1.]\n",
      " [ 0.  1.  1.]\n",
      " [-1.  1.  1.]]\n"
     ]
    }
   ],
   "source": [
    "X = np.random.randint(1,5,(3,3))\n",
    "print(X)\n",
    "Y = X - X.mean()\n",
    "print(\"\\n\",Y)"
   ]
  },
  {
   "cell_type": "markdown",
   "metadata": {
    "colab_type": "text",
    "id": "x_68jc7UbFUd"
   },
   "source": [
    "# 11.Consider a given vector, how to add 1 to each element indexed by a second vector (be careful with repeated indices)? "
   ]
  },
  {
   "cell_type": "code",
   "execution_count": 91,
   "metadata": {
    "colab": {},
    "colab_type": "code",
    "id": "l8ROHpKhbFUe"
   },
   "outputs": [
    {
     "name": "stdout",
     "output_type": "stream",
     "text": [
      "[3 1 2 4 4 2 3 3 4 2]\n",
      "[1 2 3 5 4 4 3 1 2 7]\n"
     ]
    }
   ],
   "source": [
    "arr1= np.random.randint(0,5,10)\n",
    "print(arr1)\n",
    "arr2= np.random.randint(0,8,10)\n",
    "print (arr2)"
   ]
  },
  {
   "cell_type": "code",
   "execution_count": 93,
   "metadata": {
    "colab": {},
    "colab_type": "code",
    "id": "dqcZdnr2bFUg"
   },
   "outputs": [
    {
     "name": "stdout",
     "output_type": "stream",
     "text": [
      "[3 5 6 8 8 4 3 5 4 2]\n"
     ]
    }
   ],
   "source": [
    "arr1 += np.bincount(arr2, minlength=len(arr1))\n",
    "print (arr1)"
   ]
  },
  {
   "cell_type": "markdown",
   "metadata": {
    "colab_type": "text",
    "id": "h60oyQyKbFUk"
   },
   "source": [
    "# 12.How to get the diagonal of a dot product?"
   ]
  },
  {
   "cell_type": "code",
   "execution_count": 62,
   "metadata": {
    "colab": {},
    "colab_type": "code",
    "id": "4pgAJ3NWbFUk"
   },
   "outputs": [
    {
     "name": "stdout",
     "output_type": "stream",
     "text": [
      "[[4 5 8]\n",
      " [2 9 0]\n",
      " [9 6 1]]\n",
      "\n",
      "[[3 2 7]\n",
      " [5 4 8]\n",
      " [0 9 7]]\n",
      "\n",
      "Diagonal of a dot product : [ 37  40 118]\n"
     ]
    }
   ],
   "source": [
    "x = np.random.randint(0,10,(3,3))\n",
    "print(x)\n",
    "print()\n",
    "y = np.random.randint(0,10,(3,3))\n",
    "print(y)\n",
    "print()\n",
    "print(\"Diagonal of a dot product :\",np.diag(np.dot(x,y)))"
   ]
  },
  {
   "cell_type": "markdown",
   "metadata": {
    "colab_type": "text",
    "id": "S9RnAyYBbFUn"
   },
   "source": [
    "# 13.How to find the most frequent value in an array?"
   ]
  },
  {
   "cell_type": "code",
   "execution_count": 58,
   "metadata": {
    "colab": {},
    "colab_type": "code",
    "id": "HT6UKexIbFUn"
   },
   "outputs": [
    {
     "name": "stdout",
     "output_type": "stream",
     "text": [
      "[4 4 1 4 2]\n",
      "Most frequent: 4\n"
     ]
    }
   ],
   "source": [
    "x = np.random.randint(1,6,5)\n",
    "print (x)\n",
    "print('Most frequent:', np.bincount(x).argmax())"
   ]
  },
  {
   "cell_type": "markdown",
   "metadata": {
    "colab_type": "text",
    "id": "pTVWkk5nbFUr"
   },
   "source": [
    "# 14.How to get the n largest values of an array"
   ]
  },
  {
   "cell_type": "code",
   "execution_count": 47,
   "metadata": {
    "colab": {},
    "colab_type": "code",
    "id": "EDWy92sObFUr"
   },
   "outputs": [
    {
     "name": "stdout",
     "output_type": "stream",
     "text": [
      "2 Largest values are : [48 58]\n",
      "[48 58]\n"
     ]
    }
   ],
   "source": [
    "x = np.array([2,3,5,48,9,2,6,58,2])\n",
    "n = 2\n",
    "print (n,\"Largest values are :\" , x[np.argsort(x)[-n:]])"
   ]
  },
  {
   "cell_type": "markdown",
   "metadata": {
    "colab_type": "text",
    "id": "WikckoMpbFUw"
   },
   "source": [
    "# 15.How to create a record array from a regular array?"
   ]
  },
  {
   "cell_type": "code",
   "execution_count": 38,
   "metadata": {
    "colab": {},
    "colab_type": "code",
    "id": "SPdrR-RIbFUx"
   },
   "outputs": [
    {
     "name": "stdout",
     "output_type": "stream",
     "text": [
      "[(b'Hello', 2.5, 3) (b'World', 3.6, 2)]\n"
     ]
    }
   ],
   "source": [
    "x = np.array([(\"Hello\", 2.5, 3),\n",
    "              (\"World\", 3.6, 2)])\n",
    "ra = np.core.records.fromarrays(x.T,\n",
    "                               names='col1, col2, col3',\n",
    "                               formats = 'S8, f8, i8')\n",
    "\n",
    "print (ra)"
   ]
  }
 ],
 "metadata": {
  "colab": {
   "name": "Numpy Assignment Questions 23 july 2020- Lets Upgrade.ipynb",
   "provenance": []
  },
  "kernelspec": {
   "display_name": "Python 3",
   "language": "python",
   "name": "python3"
  },
  "language_info": {
   "codemirror_mode": {
    "name": "ipython",
    "version": 3
   },
   "file_extension": ".py",
   "mimetype": "text/x-python",
   "name": "python",
   "nbconvert_exporter": "python",
   "pygments_lexer": "ipython3",
   "version": "3.7.6"
  }
 },
 "nbformat": 4,
 "nbformat_minor": 1
}
